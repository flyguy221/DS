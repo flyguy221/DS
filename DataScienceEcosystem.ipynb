{
 "cells": [
  {
   "cell_type": "markdown",
   "id": "89a1dc4d-1446-4f67-a023-9a5926d679cd",
   "metadata": {},
   "source": [
    "# Data Science Tools and Ecosystem"
   ]
  },
  {
   "cell_type": "markdown",
   "id": "1f144de4-7ec9-408c-8323-750e2793a156",
   "metadata": {},
   "source": [
    "## Author\n",
    "Jeremy Feagan"
   ]
  },
  {
   "cell_type": "markdown",
   "id": "b3c3aaf6-7ba3-43ec-9c4a-063fc4c0f7e3",
   "metadata": {},
   "source": [
    "In this notebook, Data Science Tools and Ecosystem are summarized."
   ]
  },
  {
   "cell_type": "markdown",
   "id": "868556f8-4639-4c3c-b850-67020ae8e91e",
   "metadata": {},
   "source": [
    "**Objectives:**\n",
    "* List Popular Language for Data Science\n",
    "* Create code to perform simple arithmetic expressions\n",
    "* List commonly used libraries used by Data Scientists\n",
    "* Create code to perform hours to minutes calculations"
   ]
  },
  {
   "cell_type": "markdown",
   "id": "bcf15fc4-ee7f-4b46-a2f7-e921fadab588",
   "metadata": {
    "tags": []
   },
   "source": [
    "Some of the popular languages that Data Scientists use are:\n",
    "1. Python\n",
    "2. R\n",
    "3. Scala"
   ]
  },
  {
   "cell_type": "markdown",
   "id": "01278273-c584-4eb9-9f54-3cc239968b64",
   "metadata": {},
   "source": [
    "Some of the commonly used libraries used by Data Scientists include:\n",
    "1. Pandas\n",
    "2. NumPy\n",
    "3. SciPy"
   ]
  },
  {
   "cell_type": "markdown",
   "id": "da677c46-4476-45d6-a6d6-026acedae1fc",
   "metadata": {},
   "source": [
    "|Data Science Tools|\n",
    "|------------------|\n",
    "|MongoDB|\n",
    "|Couch DB|\n",
    "|MySQL|\n"
   ]
  },
  {
   "cell_type": "markdown",
   "id": "8c89f9b5-1714-49dc-9981-1647ce6a1614",
   "metadata": {},
   "source": [
    "### Below are a few examples of evaluating arithmetic expressions in Python"
   ]
  },
  {
   "cell_type": "code",
   "execution_count": 3,
   "id": "909bc636-87ad-4efb-a8cc-ca4e5e04756b",
   "metadata": {
    "tags": []
   },
   "outputs": [
    {
     "data": {
      "text/plain": [
       "17"
      ]
     },
     "execution_count": 3,
     "metadata": {},
     "output_type": "execute_result"
    }
   ],
   "source": [
    "# This a simple arithmetic expression to mutiply then add integers\n",
    "(3*4)+5"
   ]
  },
  {
   "cell_type": "code",
   "execution_count": 4,
   "id": "554f9ecd-2d5a-4567-af0d-716df4e85919",
   "metadata": {
    "tags": []
   },
   "outputs": [
    {
     "data": {
      "text/plain": [
       "3.3333333333333335"
      ]
     },
     "execution_count": 4,
     "metadata": {},
     "output_type": "execute_result"
    }
   ],
   "source": [
    "# This will convert 200 minutes to hours by diving by 60\n",
    "200/60"
   ]
  }
 ],
 "metadata": {
  "kernelspec": {
   "display_name": "Python 3 (ipykernel)",
   "language": "python",
   "name": "python3"
  },
  "language_info": {
   "codemirror_mode": {
    "name": "ipython",
    "version": 3
   },
   "file_extension": ".py",
   "mimetype": "text/x-python",
   "name": "python",
   "nbconvert_exporter": "python",
   "pygments_lexer": "ipython3",
   "version": "3.11.5"
  }
 },
 "nbformat": 4,
 "nbformat_minor": 5
}
